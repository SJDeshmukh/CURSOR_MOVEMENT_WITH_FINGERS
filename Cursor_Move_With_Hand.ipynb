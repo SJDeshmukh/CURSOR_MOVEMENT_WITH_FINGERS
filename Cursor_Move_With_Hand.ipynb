{
 "cells": [
  {
   "cell_type": "code",
   "execution_count": null,
   "id": "580734c9",
   "metadata": {},
   "outputs": [],
   "source": [
    "from math import atan2,degrees\n",
    "import cv2\n",
    "import time\n",
    "import pyautogui\n",
    "from PIL import Image\n",
    "from cvzone.HandTrackingModule import HandDetector\n",
    "r=10\n",
    "s=1912\n",
    "p=230\n",
    "cam=cv2.VideoCapture(0)\n",
    "detector=HandDetector(detectionCon=0.8)\n",
    "while True:\n",
    "    success,img=cam.read()\n",
    "    hand,img=detector.findHands(img)\n",
    "    try:\n",
    "        if len(hand)==1 or len(hand)==2:\n",
    "            if detector.fingersUp(hand[0])==[0,1,0,0,0]:\n",
    "                if p>900:\n",
    "                    p=900\n",
    "                    pyautogui.drag(0,0,0)\n",
    "                else:\n",
    "                    p+=40\n",
    "                    pyautogui.moveTo(s, p)\n",
    "                    pyautogui.drag(0,40,0.2)\n",
    "            elif detector.fingersUp(hand[0])==[0,1,1,0,0]:\n",
    "                if p<310:\n",
    "                    p=310\n",
    "                    pyautogui.drag(0,0,0)\n",
    "                else:\n",
    "                    pyautogui.moveTo(s,p)\n",
    "                    pyautogui.drag(0,-40,0.2)\n",
    "                    p-=40\n",
    "    except:\n",
    "        pass\n",
    "    cv2.imshow(\"img\",img)\n",
    "    if cv2.waitKey(1)==27:\n",
    "        break;\n",
    "cam.release()\n",
    "cv2.destroyAllWindows()\n",
    "\n"
   ]
  },
  {
   "cell_type": "code",
   "execution_count": null,
   "id": "de68f78e",
   "metadata": {},
   "outputs": [],
   "source": [
    "import pyautogui\n",
    "import time\n",
    "time.sleep(3)\n",
    "r=10\n",
    "s=1910\n",
    "p=278\n",
    "currentMouseX, currentMouseY = pyautogui.position()   #1912 118    #1910 278\n",
    "print(currentMouseX, currentMouseY)\n"
   ]
  },
  {
   "cell_type": "markdown",
   "id": "37d2ed62",
   "metadata": {},
   "source": [
    "# "
   ]
  },
  {
   "cell_type": "code",
   "execution_count": null,
   "id": "acfcbdb0",
   "metadata": {},
   "outputs": [],
   "source": []
  },
  {
   "cell_type": "code",
   "execution_count": null,
   "id": "09096cca",
   "metadata": {},
   "outputs": [],
   "source": [
    "from math import atan2,degrees\n",
    "import cv2\n",
    "import time\n",
    "import pyautogui\n",
    "from PIL import Image\n",
    "from cvzone.HandTrackingModule import HandDetector\n",
    "r=10\n",
    "s=1912\n",
    "p=230\n",
    "cam=cv2.VideoCapture(0)\n",
    "detector=HandDetector(detectionCon=0.8)\n",
    "while True:\n",
    "    success,img=cam.read()\n",
    "    hand,img=detector.findHands(img)\n",
    "    try:\n",
    "        if len(hand)==1 or len(hand)==2:\n",
    "            if detector.fingersUp(hand[0])==[0,1,0,0,0]:\n",
    "                if p>900:\n",
    "                    p=900\n",
    "                    pyautogui.drag(0,0,0)\n",
    "                else:\n",
    "                    p+=40\n",
    "                    pyautogui.moveTo(s, p)\n",
    "                    pyautogui.drag(0,40,0.2)\n",
    "            elif detector.fingersUp(hand[0])==[0,1,1,0,0]:\n",
    "                if p<310:\n",
    "                    p=310\n",
    "                    pyautogui.drag(0,0,0)\n",
    "                else:\n",
    "                    pyautogui.moveTo(s,p)\n",
    "                    pyautogui.drag(0,-40,0.2)\n",
    "                    p-=40\n",
    "    except:\n",
    "        pass\n",
    "    cv2.imshow(\"img\",img)\n",
    "    if cv2.waitKey(1)==27:\n",
    "        break;\n",
    "cam.release()\n",
    "cv2.destroyAllWindows()\n",
    "\n"
   ]
  },
  {
   "cell_type": "code",
   "execution_count": null,
   "id": "97a1b1d0",
   "metadata": {},
   "outputs": [],
   "source": []
  },
  {
   "cell_type": "code",
   "execution_count": null,
   "id": "d489c2ba",
   "metadata": {},
   "outputs": [],
   "source": []
  },
  {
   "cell_type": "code",
   "execution_count": null,
   "id": "0b985bbd",
   "metadata": {},
   "outputs": [],
   "source": []
  },
  {
   "cell_type": "code",
   "execution_count": null,
   "id": "26f05546",
   "metadata": {},
   "outputs": [],
   "source": []
  }
 ],
 "metadata": {
  "kernelspec": {
   "display_name": "Python 3",
   "language": "python",
   "name": "python3"
  },
  "language_info": {
   "codemirror_mode": {
    "name": "ipython",
    "version": 3
   },
   "file_extension": ".py",
   "mimetype": "text/x-python",
   "name": "python",
   "nbconvert_exporter": "python",
   "pygments_lexer": "ipython3",
   "version": "3.8.8"
  }
 },
 "nbformat": 4,
 "nbformat_minor": 5
}
